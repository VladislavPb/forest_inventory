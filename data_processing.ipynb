{
 "metadata": {
  "language_info": {
   "codemirror_mode": {
    "name": "ipython",
    "version": 3
   },
   "file_extension": ".py",
   "mimetype": "text/x-python",
   "name": "python",
   "nbconvert_exporter": "python",
   "pygments_lexer": "ipython3",
   "version": "3.7.4"
  },
  "orig_nbformat": 2,
  "kernelspec": {
   "name": "python374jvsc74a57bd0b3ba2566441a7c06988d0923437866b63cedc61552a5af99d1f4fb67d367b25f",
   "display_name": "Python 3.7.4 64-bit ('base': conda)"
  }
 },
 "nbformat": 4,
 "nbformat_minor": 2,
 "cells": [
  {
   "source": [
    "## Преобразование текстового документа с карточками таксации в таблицу в формате csv"
   ],
   "cell_type": "markdown",
   "metadata": {}
  },
  {
   "source": [
    "Проходим построчно по документу data.txt.\n",
    "Если строка состоит из одних пробелов, то в список добавляется строка нулевой длины (''), а если нет - то полная строка без знака переноса ('\\n')"
   ],
   "cell_type": "markdown",
   "metadata": {}
  },
  {
   "cell_type": "code",
   "execution_count": 1,
   "metadata": {},
   "outputs": [],
   "source": [
    "with open('data.txt') as f:\n",
    "    first_list = f.readlines()\n",
    "\n",
    "initial_list = []\n",
    "for i in first_list:\n",
    "    if i.isspace():\n",
    "        initial_list.append(i.strip())\n",
    "    else:\n",
    "        initial_list.append(i.rstrip('\\n'))"
   ]
  },
  {
   "source": [
    "Проходим по строкам, находя строки вида \"Квартал :   1\", чтобы записать первое упоминание каждого из кварталов. Эти номера строк образуют границы, между которыми выдела будут принадлежать только определенному кварталу:"
   ],
   "cell_type": "markdown",
   "metadata": {}
  },
  {
   "cell_type": "code",
   "execution_count": 2,
   "metadata": {},
   "outputs": [],
   "source": [
    "kv_dict = {}\n",
    "\n",
    "for n, i in enumerate(initial_list):  #получаем с каких строк начинаются определенные квартала\n",
    "    if 'Квартал' in i:\n",
    "        kv = int(i.split()[-1])\n",
    "        if kv not in kv_dict:\n",
    "            kv_dict[kv] = n"
   ]
  },
  {
   "source": [
    "Проверяем количество кварталов:"
   ],
   "cell_type": "markdown",
   "metadata": {}
  },
  {
   "cell_type": "code",
   "execution_count": 3,
   "metadata": {},
   "outputs": [
    {
     "output_type": "stream",
     "name": "stdout",
     "text": [
      "89 кварталов\n"
     ]
    }
   ],
   "source": [
    "print(f'{len(kv_dict)} кварталов')"
   ]
  },
  {
   "source": [
    "Словарь не совсем удобный для наших целей формат данных (неудобно итерировать), преобразуем его в два списка одинаковой длины - список первых строк кварталов и список номеров кварталов. Два элемента с одинаковым индексом из этих двух списков будут соотвествовать паре \"номер квартала - первая строка\" из словаря. Отдельный список номеров кварталов необходим также потому что номера кварталов не идут подряд - так, всего кварталов 89, а их номера доходят до 206."
   ],
   "cell_type": "markdown",
   "metadata": {}
  },
  {
   "cell_type": "code",
   "execution_count": 4,
   "metadata": {},
   "outputs": [],
   "source": [
    "list_of_kv_str = [k for v, k in kv_dict.items()]\n",
    "list_of_kv_numbers = [v for v, k in kv_dict.items()]"
   ]
  },
  {
   "cell_type": "code",
   "execution_count": 5,
   "metadata": {},
   "outputs": [
    {
     "output_type": "stream",
     "name": "stdout",
     "text": [
      "Длина списка первых строк - 89\nДлина списка номеров кварталов - 89\n"
     ]
    }
   ],
   "source": [
    "print(f'Длина списка первых строк - {len(list_of_kv_str)}')   \n",
    "print(f'Длина списка номеров кварталов - {len(list_of_kv_numbers)}')"
   ]
  },
  {
   "source": [
    "Отдельные выдела можно отличить тем, что в каждом из них есть строка вида \"2005 2Олч -100 30 28 30  5    С2  109   22 1\", т.е. во всех выделах встречается подстрока \"2005\" - она находится либо на третьей, либо на десятой строке выдела (в случаях когда выдел находится на двух страницах документа и разорван \"шапкой\" таблицы). В этих случаях мы должны проверить, что первый элемент j-2 (j - строка с подстрокой \"2005\") числовой с помощью функции isdigit()"
   ],
   "cell_type": "markdown",
   "metadata": {}
  },
  {
   "cell_type": "code",
   "execution_count": 6,
   "metadata": {},
   "outputs": [],
   "source": [
    "indexes_of_dates = []\n",
    "\n",
    "for n, i in enumerate(initial_list):\n",
    "    if '2005' in i:\n",
    "        indexes_of_dates.append(n)"
   ]
  },
  {
   "source": [
    "Посмотрим на следующий выдел:\n",
    "\n",
    "\"5 4Е   -140  1 29 32  7  2 0.5  28   21 1   4    4          \n",
    "   2.0 2Е   - 90 -- 25 24 --    КС  ---   11 1 ---  ---          \n",
    "  2005 3Б   -140 28 27 26  3    В2   55   17 1  -    -           \n",
    "       1Ос  -140    30 40                  6 4                   \n",
    "       Подрост: 10Е 20 лет, высота 3.0 м, 2.0 тыс.шт/га       \"\n",
    "\n",
    "В иных случаях подстрока \"2005\" находится не на третьей строке, а на десятоЙ. \n",
    "\n",
    "В данной ситуации нам необходимо записать только первые четыре строки. В данной ситуации можно завершить цикл записи из строк в словарь, встретив подстроку \"Подрост\". В иных выделах встречаются другие подстроки. Составим список этих слов:"
   ],
   "cell_type": "markdown",
   "metadata": {}
  },
  {
   "cell_type": "code",
   "execution_count": 7,
   "metadata": {},
   "outputs": [],
   "source": [
    "banned_words = ['ОЗУ', '---', 'Подрост', 'Единичные', 'Целевая', 'Состояние', '2-ой ярус', 'Ест', \"Тип\", 'ширина', 'Подлесок', 'Выполнено', 'Характеристика', 'Потери', 'Ландшафтная', 'Полнота', \"Состав\", 'лесосеменная', \"прививочная\", \"Вырубка\", \"Проек\", \"Заросшие\", \"Насаждение\", \"РГП\", \"Погиб\", \"муравейник\", \"полог\", \"выдел\", \"Почвы\", '+']"
   ]
  },
  {
   "source": [
    "Составим словарь из элементов по три или более строки, где ключом будет являться число вида (пример) \"11023\", где \"11\" будет номером квартала, а \"23\" - номером выдела.\n"
   ],
   "cell_type": "markdown",
   "metadata": {}
  },
  {
   "cell_type": "code",
   "execution_count": 8,
   "metadata": {},
   "outputs": [],
   "source": [
    "dict_of_strings = {}   \n",
    "\n",
    "# Пройдем циклом по строкам, где есть подстрока \"2005\". Это либо третья, либо десятая строка в выделе:\n",
    "for j in indexes_of_dates:\n",
    "    str1 = initial_list[j - 2]\n",
    "    str2 = initial_list[j - 1]\n",
    "\n",
    "    if str1.split()[0].isdigit():\n",
    "        # Выделяем в переменную номер выдела:\n",
    "        num_vyd = int(str1.split()[0]) \n",
    "    else:\n",
    "        str1 = initial_list[j - 9]\n",
    "        str2 = initial_list[j - 8]\n",
    "        num_vyd = int(str1.split()[0]) \n",
    "    \n",
    "        # Выделяем в переменную номер квартала:\n",
    "    num_kv = 0\n",
    "    for l, m in enumerate(list_of_kv_str):\n",
    "        if j > m:\n",
    "            num_kv = list_of_kv_numbers[l]\n",
    "            pass\n",
    "    \n",
    "    str3 = initial_list[j] \n",
    "\n",
    "    little_list = [str1, str2, str3]\n",
    "\n",
    "    start = j + 1 # Заводим переменную-счетчик, первое значение - строка за строкой j\n",
    "    while len(initial_list[start]) != 0: # Проверяем что эта строка start не нулевой длины (поскольку пробелы были обрезаны, то строки, состоящие только из пробелов, стали нулевой длины)\n",
    "        if any(x in initial_list[start] for x in banned_words):  # Если какие-то из запрещенным подстрок содержатся в строке - \n",
    "            break                                                # цикл прерывается\n",
    "        else:\n",
    "            little_list.append(initial_list[start]) # Если правило запрещенного слова не нарушено, то строка записывается в список и\n",
    "            start += 1                              # переменная start растет на единицу и цикл переходит на следующую строку\n",
    "    \n",
    "    dict_of_strings[1000 * num_kv + num_vyd] = little_list"
   ]
  },
  {
   "source": [
    "Проверим, что длина получившегося словаря равна количеству выделов:"
   ],
   "cell_type": "markdown",
   "metadata": {}
  },
  {
   "cell_type": "code",
   "execution_count": 9,
   "metadata": {},
   "outputs": [
    {
     "output_type": "stream",
     "name": "stdout",
     "text": [
      "Длина словаря - 3929\nКоличество выделов - 3929\n"
     ]
    }
   ],
   "source": [
    "print(f'Длина словаря - {len(dict_of_strings)}')\n",
    "print(f'Количество выделов - {len(indexes_of_dates)}')"
   ]
  },
  {
   "source": [
    "Проверим, что все строки, записанные в словарь одной длины. Сначала измерим длину одной рандомной строки из словаря."
   ],
   "cell_type": "markdown",
   "metadata": {}
  },
  {
   "cell_type": "code",
   "execution_count": 10,
   "metadata": {},
   "outputs": [
    {
     "output_type": "stream",
     "name": "stdout",
     "text": [
      "65\n"
     ]
    }
   ],
   "source": [
    "print(len(dict_of_strings[1001][0]))"
   ]
  },
  {
   "cell_type": "code",
   "execution_count": 11,
   "metadata": {},
   "outputs": [
    {
     "output_type": "execute_result",
     "data": {
      "text/plain": [
       "0"
      ]
     },
     "metadata": {},
     "execution_count": 11
    }
   ],
   "source": [
    "len_str = 0 \n",
    "for i in dict_of_strings:\n",
    "    for j in dict_of_strings[i]:\n",
    "        if len(j) != 65:   \n",
    "            len_str += 1   \n",
    "len_str"
   ]
  },
  {
   "source": [
    "Как мы убедились, все строки в выделах одинаковой длины. Можно заметить, что все характеристики находятся на определенных столбцах текстового документа - так, например ярус находится в первой строке в диапазоне стобцов с 18 по 20, средняя высота яруса - в третьей строке в диапазоне стобцов с 18 по 20; не общие характеристики выдела, соответствующие определенным ярусам - высота яруса, состав, диаметры деревьев - уже уникальны и находятся в одинаковых стобцах разных строк. Поэтому в функции сначала записываются общие переменные, а потом идет построчный цикл для записи переменных из отдельных ярусов. \n",
    "Заводим второй список запрещенных слов для прерывания циклов."
   ],
   "cell_type": "markdown",
   "metadata": {}
  },
  {
   "cell_type": "code",
   "execution_count": 12,
   "metadata": {},
   "outputs": [],
   "source": [
    "banned_words_2 = ['+', 'км']"
   ]
  },
  {
   "cell_type": "code",
   "execution_count": 13,
   "metadata": {},
   "outputs": [],
   "source": [
    "def create_row(x):\n",
    "    number_of_strings = len(dict_of_strings[x])\n",
    "\n",
    "    # Общие переменные для всего выдела:\n",
    "    KW = int(x / 1000)\n",
    "    VD = int(x % 1000)\n",
    "    if any(t in dict_of_strings[x][0] for t in banned_words_2):\n",
    "        Tier = Avg_tier_heigth = Age_class = Age_group = Bon = Vyd_reserve = Full = ''\n",
    "    else:\n",
    "        Tier = dict_of_strings[x][0][17:20].strip()\n",
    "        Avg_tier_heigth = dict_of_strings[x][2][17:20].strip()\n",
    "        Age_class = dict_of_strings[x][0][26:29].strip()\n",
    "        Age_group =  dict_of_strings[x][2][26:29].strip()\n",
    "        Bon =  dict_of_strings[x][0][29:32].strip()\n",
    "        Vyd_reserve =  dict_of_strings[x][2][36:41].strip()\n",
    "        Full = dict_of_strings[x][0][31:36].strip()\n",
    "\n",
    "    # Построчные переменные для отдельных строк:\n",
    "    PR = [''] * 6\n",
    "    Vys = [''] * 6\n",
    "    DM = [''] * 6\n",
    "\n",
    "    for i in range(number_of_strings):\n",
    "        if any(t in dict_of_strings[x][i] for t in banned_words_2):\n",
    "            break\n",
    "        else:\n",
    "            PR[i] += dict_of_strings[x][i][7:11].strip()\n",
    "            Vys[i] += dict_of_strings[x][i][20:23].strip()\n",
    "            DM[i] +=  dict_of_strings[x][i][23:26].strip()\n",
    "\n",
    "    return [KW, VD, PR[0], PR[1], PR[2], PR[3], PR[4], PR[5], Tier, Avg_tier_heigth, Vys[0], Vys[1], Vys[2], Vys[3], Vys[4], Vys[5], DM[0], DM[1], DM[2], DM[3], DM[4], DM[5], Age_class, Age_group, Bon, Vyd_reserve, Full] \n",
    "       \n",
    "\n",
    "    \n"
   ]
  },
  {
   "source": [
    "Импортируем модуль pandas для работы с табличными данными:"
   ],
   "cell_type": "markdown",
   "metadata": {}
  },
  {
   "cell_type": "code",
   "execution_count": 14,
   "metadata": {},
   "outputs": [],
   "source": [
    "import pandas as pd"
   ]
  },
  {
   "source": [
    "Создадим пустой датафрейм с колонками, соотвествующими нижеописанному списку:"
   ],
   "cell_type": "markdown",
   "metadata": {}
  },
  {
   "cell_type": "code",
   "execution_count": 15,
   "metadata": {},
   "outputs": [],
   "source": [
    "columns = ['KW', 'VD', 'PR1', 'PR2', 'PR3', 'PR4', 'PR5', 'PR6', 'Tier', 'Avg_tier_height', \n",
    "'Vys_1', 'Vys_2', 'Vys_3', 'Vys_4', 'Vys_5', 'Vys_6', 'DM1', 'DM2', 'DM3', 'DM4', 'DM5', 'DM6', 'Age_class', 'Age_group', 'Bon', 'Vyd_reserve', 'Full']\n",
    "table = pd.DataFrame(columns=columns)"
   ]
  },
  {
   "cell_type": "code",
   "execution_count": 16,
   "metadata": {},
   "outputs": [
    {
     "output_type": "execute_result",
     "data": {
      "text/plain": [
       "Empty DataFrame\n",
       "Columns: [KW, VD, PR1, PR2, PR3, PR4, PR5, PR6, Tier, Avg_tier_height, Vys_1, Vys_2, Vys_3, Vys_4, Vys_5, Vys_6, DM1, DM2, DM3, DM4, DM5, DM6, Age_class, Age_group, Bon, Vyd_reserve, Full]\n",
       "Index: []\n",
       "\n",
       "[0 rows x 27 columns]"
      ],
      "text/html": "<div>\n<style scoped>\n    .dataframe tbody tr th:only-of-type {\n        vertical-align: middle;\n    }\n\n    .dataframe tbody tr th {\n        vertical-align: top;\n    }\n\n    .dataframe thead th {\n        text-align: right;\n    }\n</style>\n<table border=\"1\" class=\"dataframe\">\n  <thead>\n    <tr style=\"text-align: right;\">\n      <th></th>\n      <th>KW</th>\n      <th>VD</th>\n      <th>PR1</th>\n      <th>PR2</th>\n      <th>PR3</th>\n      <th>PR4</th>\n      <th>PR5</th>\n      <th>PR6</th>\n      <th>Tier</th>\n      <th>Avg_tier_height</th>\n      <th>...</th>\n      <th>DM2</th>\n      <th>DM3</th>\n      <th>DM4</th>\n      <th>DM5</th>\n      <th>DM6</th>\n      <th>Age_class</th>\n      <th>Age_group</th>\n      <th>Bon</th>\n      <th>Vyd_reserve</th>\n      <th>Full</th>\n    </tr>\n  </thead>\n  <tbody>\n  </tbody>\n</table>\n<p>0 rows × 27 columns</p>\n</div>"
     },
     "metadata": {},
     "execution_count": 16
    }
   ],
   "source": [
    "table"
   ]
  },
  {
   "source": [
    "Пройдем циклом по элементам словаря, запуская выше инициированную функцию create_row и добавляя ее результат в виде строки к датафрейму table:"
   ],
   "cell_type": "markdown",
   "metadata": {}
  },
  {
   "cell_type": "code",
   "execution_count": 17,
   "metadata": {},
   "outputs": [],
   "source": [
    "for i in list(dict_of_strings):\n",
    "    table.loc[len(table)] = create_row(i)"
   ]
  },
  {
   "cell_type": "code",
   "execution_count": 18,
   "metadata": {},
   "outputs": [
    {
     "output_type": "execute_result",
     "data": {
      "text/plain": [
       "  KW  VD  PR1  PR2   PR3  PR4 PR5 PR6 Tier Avg_tier_height  ... DM2 DM3 DM4  \\\n",
       "0  1   1                                                    ...               \n",
       "1  1   2   5Е  3Ос    2Б                 1              29  ...  40  28       \n",
       "2  1   3  4Ос   2Б  2Олч   2Е            1              30  ...  28  30  28   \n",
       "3  1   4  7Ос   3Б                       1              31  ...  26           \n",
       "4  1   5   4Е   2Е    3Б  1Ос            1              28  ...  24  26  40   \n",
       "5  1   6   3Е   2Е    3Б  2Ос            1              26  ...  28  24  32   \n",
       "6  1   7   3Е   2Е    4Б  1Ос            1              25  ...  28  24  32   \n",
       "7  1   8   4Е   2Е    3Б  1Ос            1              27  ...  24  26  36   \n",
       "8  1   9   5Е   2Е    2Б  1Ос            1              26  ...  24  22  30   \n",
       "9  1  10   6Е   2Б   2Ос                 1              24  ...  20  28       \n",
       "\n",
       "  DM5 DM6 Age_class Age_group Bon Vyd_reserve Full  \n",
       "0                                                   \n",
       "1                 5         2   1          23  0.5  \n",
       "2                10         5  1А         109  0.6  \n",
       "3                 8         4  1А         119  0.8  \n",
       "4                 7         3   2          55  0.5  \n",
       "5                 5         2   2          27  0.3  \n",
       "6                 5         2   2          13  0.3  \n",
       "7                 7         3   2          77  0.5  \n",
       "8                 7         3   2          32  0.7  \n",
       "9                 3         2   1          41  1.0  \n",
       "\n",
       "[10 rows x 27 columns]"
      ],
      "text/html": "<div>\n<style scoped>\n    .dataframe tbody tr th:only-of-type {\n        vertical-align: middle;\n    }\n\n    .dataframe tbody tr th {\n        vertical-align: top;\n    }\n\n    .dataframe thead th {\n        text-align: right;\n    }\n</style>\n<table border=\"1\" class=\"dataframe\">\n  <thead>\n    <tr style=\"text-align: right;\">\n      <th></th>\n      <th>KW</th>\n      <th>VD</th>\n      <th>PR1</th>\n      <th>PR2</th>\n      <th>PR3</th>\n      <th>PR4</th>\n      <th>PR5</th>\n      <th>PR6</th>\n      <th>Tier</th>\n      <th>Avg_tier_height</th>\n      <th>...</th>\n      <th>DM2</th>\n      <th>DM3</th>\n      <th>DM4</th>\n      <th>DM5</th>\n      <th>DM6</th>\n      <th>Age_class</th>\n      <th>Age_group</th>\n      <th>Bon</th>\n      <th>Vyd_reserve</th>\n      <th>Full</th>\n    </tr>\n  </thead>\n  <tbody>\n    <tr>\n      <td>0</td>\n      <td>1</td>\n      <td>1</td>\n      <td></td>\n      <td></td>\n      <td></td>\n      <td></td>\n      <td></td>\n      <td></td>\n      <td></td>\n      <td></td>\n      <td>...</td>\n      <td></td>\n      <td></td>\n      <td></td>\n      <td></td>\n      <td></td>\n      <td></td>\n      <td></td>\n      <td></td>\n      <td></td>\n      <td></td>\n    </tr>\n    <tr>\n      <td>1</td>\n      <td>1</td>\n      <td>2</td>\n      <td>5Е</td>\n      <td>3Ос</td>\n      <td>2Б</td>\n      <td></td>\n      <td></td>\n      <td></td>\n      <td>1</td>\n      <td>29</td>\n      <td>...</td>\n      <td>40</td>\n      <td>28</td>\n      <td></td>\n      <td></td>\n      <td></td>\n      <td>5</td>\n      <td>2</td>\n      <td>1</td>\n      <td>23</td>\n      <td>0.5</td>\n    </tr>\n    <tr>\n      <td>2</td>\n      <td>1</td>\n      <td>3</td>\n      <td>4Ос</td>\n      <td>2Б</td>\n      <td>2Олч</td>\n      <td>2Е</td>\n      <td></td>\n      <td></td>\n      <td>1</td>\n      <td>30</td>\n      <td>...</td>\n      <td>28</td>\n      <td>30</td>\n      <td>28</td>\n      <td></td>\n      <td></td>\n      <td>10</td>\n      <td>5</td>\n      <td>1А</td>\n      <td>109</td>\n      <td>0.6</td>\n    </tr>\n    <tr>\n      <td>3</td>\n      <td>1</td>\n      <td>4</td>\n      <td>7Ос</td>\n      <td>3Б</td>\n      <td></td>\n      <td></td>\n      <td></td>\n      <td></td>\n      <td>1</td>\n      <td>31</td>\n      <td>...</td>\n      <td>26</td>\n      <td></td>\n      <td></td>\n      <td></td>\n      <td></td>\n      <td>8</td>\n      <td>4</td>\n      <td>1А</td>\n      <td>119</td>\n      <td>0.8</td>\n    </tr>\n    <tr>\n      <td>4</td>\n      <td>1</td>\n      <td>5</td>\n      <td>4Е</td>\n      <td>2Е</td>\n      <td>3Б</td>\n      <td>1Ос</td>\n      <td></td>\n      <td></td>\n      <td>1</td>\n      <td>28</td>\n      <td>...</td>\n      <td>24</td>\n      <td>26</td>\n      <td>40</td>\n      <td></td>\n      <td></td>\n      <td>7</td>\n      <td>3</td>\n      <td>2</td>\n      <td>55</td>\n      <td>0.5</td>\n    </tr>\n    <tr>\n      <td>5</td>\n      <td>1</td>\n      <td>6</td>\n      <td>3Е</td>\n      <td>2Е</td>\n      <td>3Б</td>\n      <td>2Ос</td>\n      <td></td>\n      <td></td>\n      <td>1</td>\n      <td>26</td>\n      <td>...</td>\n      <td>28</td>\n      <td>24</td>\n      <td>32</td>\n      <td></td>\n      <td></td>\n      <td>5</td>\n      <td>2</td>\n      <td>2</td>\n      <td>27</td>\n      <td>0.3</td>\n    </tr>\n    <tr>\n      <td>6</td>\n      <td>1</td>\n      <td>7</td>\n      <td>3Е</td>\n      <td>2Е</td>\n      <td>4Б</td>\n      <td>1Ос</td>\n      <td></td>\n      <td></td>\n      <td>1</td>\n      <td>25</td>\n      <td>...</td>\n      <td>28</td>\n      <td>24</td>\n      <td>32</td>\n      <td></td>\n      <td></td>\n      <td>5</td>\n      <td>2</td>\n      <td>2</td>\n      <td>13</td>\n      <td>0.3</td>\n    </tr>\n    <tr>\n      <td>7</td>\n      <td>1</td>\n      <td>8</td>\n      <td>4Е</td>\n      <td>2Е</td>\n      <td>3Б</td>\n      <td>1Ос</td>\n      <td></td>\n      <td></td>\n      <td>1</td>\n      <td>27</td>\n      <td>...</td>\n      <td>24</td>\n      <td>26</td>\n      <td>36</td>\n      <td></td>\n      <td></td>\n      <td>7</td>\n      <td>3</td>\n      <td>2</td>\n      <td>77</td>\n      <td>0.5</td>\n    </tr>\n    <tr>\n      <td>8</td>\n      <td>1</td>\n      <td>9</td>\n      <td>5Е</td>\n      <td>2Е</td>\n      <td>2Б</td>\n      <td>1Ос</td>\n      <td></td>\n      <td></td>\n      <td>1</td>\n      <td>26</td>\n      <td>...</td>\n      <td>24</td>\n      <td>22</td>\n      <td>30</td>\n      <td></td>\n      <td></td>\n      <td>7</td>\n      <td>3</td>\n      <td>2</td>\n      <td>32</td>\n      <td>0.7</td>\n    </tr>\n    <tr>\n      <td>9</td>\n      <td>1</td>\n      <td>10</td>\n      <td>6Е</td>\n      <td>2Б</td>\n      <td>2Ос</td>\n      <td></td>\n      <td></td>\n      <td></td>\n      <td>1</td>\n      <td>24</td>\n      <td>...</td>\n      <td>20</td>\n      <td>28</td>\n      <td></td>\n      <td></td>\n      <td></td>\n      <td>3</td>\n      <td>2</td>\n      <td>1</td>\n      <td>41</td>\n      <td>1.0</td>\n    </tr>\n  </tbody>\n</table>\n<p>10 rows × 27 columns</p>\n</div>"
     },
     "metadata": {},
     "execution_count": 18
    }
   ],
   "source": [
    "table[:10]"
   ]
  },
  {
   "source": [
    "Убедимся в том, что число строк в таблице table соответствует количеству выделов (3929):"
   ],
   "cell_type": "markdown",
   "metadata": {}
  },
  {
   "cell_type": "code",
   "execution_count": 19,
   "metadata": {},
   "outputs": [
    {
     "output_type": "execute_result",
     "data": {
      "text/plain": [
       "(3929, 27)"
      ]
     },
     "metadata": {},
     "execution_count": 19
    }
   ],
   "source": [
    "table.shape"
   ]
  },
  {
   "source": [
    "Запишем датафрейм в таблицу final_table.csv:"
   ],
   "cell_type": "markdown",
   "metadata": {}
  },
  {
   "cell_type": "code",
   "execution_count": 20,
   "metadata": {},
   "outputs": [],
   "source": [
    "table.to_csv('final_table.csv', sep='\\t', encoding='utf-8')"
   ]
  }
 ]
}